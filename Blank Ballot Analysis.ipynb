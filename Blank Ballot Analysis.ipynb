{
 "cells": [
  {
   "cell_type": "markdown",
   "metadata": {},
   "source": [
    "# @USRebellion1776 claims that the Michigan and Georgia democratic ballots could be suspicious due to differences in senate votes versus presidential votes cast in voter ballots. \n",
    "\n",
    "## Let's check this out with some data!"
   ]
  },
  {
   "cell_type": "markdown",
   "metadata": {},
   "source": [
    "Story: https://www.zerohedge.com/political/why-does-biden-have-so-many-more-votes-democrat-senators-swing-states?fbclid=IwAR1qj4L3RstEHmxr_FIHkeV4GPXmJsd4kX7fU8yIQMawJ2VSj3JiFZbl8Tk"
   ]
  },
  {
   "cell_type": "markdown",
   "metadata": {},
   "source": [
    "Data Sources:\n",
    "https://electionlab.mit.edu/data and US Census Bureau\n",
    "\n",
    "Skip down to \"Main Questions\" section for the TLDR if you don't care about the data carpentry, shaping, and calculations."
   ]
  },
  {
   "cell_type": "code",
   "execution_count": 30,
   "metadata": {},
   "outputs": [],
   "source": [
    "import pandas as pd"
   ]
  },
  {
   "cell_type": "markdown",
   "metadata": {},
   "source": [
    "State votes for President and Senate"
   ]
  },
  {
   "cell_type": "code",
   "execution_count": 31,
   "metadata": {},
   "outputs": [
    {
     "data": {
      "text/html": [
       "<div>\n",
       "<style scoped>\n",
       "    .dataframe tbody tr th:only-of-type {\n",
       "        vertical-align: middle;\n",
       "    }\n",
       "\n",
       "    .dataframe tbody tr th {\n",
       "        vertical-align: top;\n",
       "    }\n",
       "\n",
       "    .dataframe thead th {\n",
       "        text-align: right;\n",
       "    }\n",
       "</style>\n",
       "<table border=\"1\" class=\"dataframe\">\n",
       "  <thead>\n",
       "    <tr style=\"text-align: right;\">\n",
       "      <th></th>\n",
       "      <th>year</th>\n",
       "      <th>state</th>\n",
       "      <th>state_po</th>\n",
       "      <th>state_fips</th>\n",
       "      <th>state_cen</th>\n",
       "      <th>state_ic</th>\n",
       "      <th>office</th>\n",
       "      <th>district</th>\n",
       "      <th>stage</th>\n",
       "      <th>special</th>\n",
       "      <th>candidate</th>\n",
       "      <th>party</th>\n",
       "      <th>writein</th>\n",
       "      <th>mode</th>\n",
       "      <th>candidatevotes</th>\n",
       "      <th>totalvotes</th>\n",
       "      <th>unofficial</th>\n",
       "      <th>version</th>\n",
       "    </tr>\n",
       "  </thead>\n",
       "  <tbody>\n",
       "    <tr>\n",
       "      <th>0</th>\n",
       "      <td>1976</td>\n",
       "      <td>Arizona</td>\n",
       "      <td>AZ</td>\n",
       "      <td>4</td>\n",
       "      <td>86</td>\n",
       "      <td>61</td>\n",
       "      <td>US Senate</td>\n",
       "      <td>statewide</td>\n",
       "      <td>gen</td>\n",
       "      <td>False</td>\n",
       "      <td>Sam Steiger</td>\n",
       "      <td>republican</td>\n",
       "      <td>False</td>\n",
       "      <td>total</td>\n",
       "      <td>321236</td>\n",
       "      <td>741210</td>\n",
       "      <td>False</td>\n",
       "      <td>20171011.0</td>\n",
       "    </tr>\n",
       "    <tr>\n",
       "      <th>1</th>\n",
       "      <td>1976</td>\n",
       "      <td>Arizona</td>\n",
       "      <td>AZ</td>\n",
       "      <td>4</td>\n",
       "      <td>86</td>\n",
       "      <td>61</td>\n",
       "      <td>US Senate</td>\n",
       "      <td>statewide</td>\n",
       "      <td>gen</td>\n",
       "      <td>False</td>\n",
       "      <td>Wm. Mathews Feighan</td>\n",
       "      <td>independent</td>\n",
       "      <td>False</td>\n",
       "      <td>total</td>\n",
       "      <td>1565</td>\n",
       "      <td>741210</td>\n",
       "      <td>False</td>\n",
       "      <td>20171011.0</td>\n",
       "    </tr>\n",
       "    <tr>\n",
       "      <th>2</th>\n",
       "      <td>1976</td>\n",
       "      <td>Arizona</td>\n",
       "      <td>AZ</td>\n",
       "      <td>4</td>\n",
       "      <td>86</td>\n",
       "      <td>61</td>\n",
       "      <td>US Senate</td>\n",
       "      <td>statewide</td>\n",
       "      <td>gen</td>\n",
       "      <td>False</td>\n",
       "      <td>Dennis DeConcini</td>\n",
       "      <td>democrat</td>\n",
       "      <td>False</td>\n",
       "      <td>total</td>\n",
       "      <td>400334</td>\n",
       "      <td>741210</td>\n",
       "      <td>False</td>\n",
       "      <td>20171011.0</td>\n",
       "    </tr>\n",
       "    <tr>\n",
       "      <th>3</th>\n",
       "      <td>1976</td>\n",
       "      <td>Arizona</td>\n",
       "      <td>AZ</td>\n",
       "      <td>4</td>\n",
       "      <td>86</td>\n",
       "      <td>61</td>\n",
       "      <td>US Senate</td>\n",
       "      <td>statewide</td>\n",
       "      <td>gen</td>\n",
       "      <td>False</td>\n",
       "      <td>Allan Norwitz</td>\n",
       "      <td>libertarian</td>\n",
       "      <td>False</td>\n",
       "      <td>total</td>\n",
       "      <td>7310</td>\n",
       "      <td>741210</td>\n",
       "      <td>False</td>\n",
       "      <td>20171011.0</td>\n",
       "    </tr>\n",
       "    <tr>\n",
       "      <th>4</th>\n",
       "      <td>1976</td>\n",
       "      <td>Arizona</td>\n",
       "      <td>AZ</td>\n",
       "      <td>4</td>\n",
       "      <td>86</td>\n",
       "      <td>61</td>\n",
       "      <td>US Senate</td>\n",
       "      <td>statewide</td>\n",
       "      <td>gen</td>\n",
       "      <td>False</td>\n",
       "      <td>Bob Field</td>\n",
       "      <td>independent</td>\n",
       "      <td>False</td>\n",
       "      <td>total</td>\n",
       "      <td>10765</td>\n",
       "      <td>741210</td>\n",
       "      <td>False</td>\n",
       "      <td>20171011.0</td>\n",
       "    </tr>\n",
       "  </tbody>\n",
       "</table>\n",
       "</div>"
      ],
      "text/plain": [
       "   year    state state_po  state_fips  state_cen  state_ic     office  \\\n",
       "0  1976  Arizona       AZ           4         86        61  US Senate   \n",
       "1  1976  Arizona       AZ           4         86        61  US Senate   \n",
       "2  1976  Arizona       AZ           4         86        61  US Senate   \n",
       "3  1976  Arizona       AZ           4         86        61  US Senate   \n",
       "4  1976  Arizona       AZ           4         86        61  US Senate   \n",
       "\n",
       "    district stage  special            candidate        party  writein   mode  \\\n",
       "0  statewide   gen    False          Sam Steiger   republican    False  total   \n",
       "1  statewide   gen    False  Wm. Mathews Feighan  independent    False  total   \n",
       "2  statewide   gen    False     Dennis DeConcini     democrat    False  total   \n",
       "3  statewide   gen    False        Allan Norwitz  libertarian    False  total   \n",
       "4  statewide   gen    False            Bob Field  independent    False  total   \n",
       "\n",
       "   candidatevotes  totalvotes  unofficial     version  \n",
       "0          321236      741210       False  20171011.0  \n",
       "1            1565      741210       False  20171011.0  \n",
       "2          400334      741210       False  20171011.0  \n",
       "3            7310      741210       False  20171011.0  \n",
       "4           10765      741210       False  20171011.0  "
      ]
     },
     "execution_count": 31,
     "metadata": {},
     "output_type": "execute_result"
    }
   ],
   "source": [
    "senate = pd.read_csv('senate.csv', encoding='latin-1')\n",
    "senate.head()"
   ]
  },
  {
   "cell_type": "code",
   "execution_count": 32,
   "metadata": {},
   "outputs": [
    {
     "data": {
      "text/html": [
       "<div>\n",
       "<style scoped>\n",
       "    .dataframe tbody tr th:only-of-type {\n",
       "        vertical-align: middle;\n",
       "    }\n",
       "\n",
       "    .dataframe tbody tr th {\n",
       "        vertical-align: top;\n",
       "    }\n",
       "\n",
       "    .dataframe thead th {\n",
       "        text-align: right;\n",
       "    }\n",
       "</style>\n",
       "<table border=\"1\" class=\"dataframe\">\n",
       "  <thead>\n",
       "    <tr style=\"text-align: right;\">\n",
       "      <th></th>\n",
       "      <th>year</th>\n",
       "      <th>state</th>\n",
       "      <th>state_po</th>\n",
       "      <th>state_fips</th>\n",
       "      <th>state_cen</th>\n",
       "      <th>state_ic</th>\n",
       "      <th>office</th>\n",
       "      <th>candidate</th>\n",
       "      <th>party</th>\n",
       "      <th>writein</th>\n",
       "      <th>candidatevotes</th>\n",
       "      <th>totalvotes</th>\n",
       "      <th>version</th>\n",
       "      <th>notes</th>\n",
       "    </tr>\n",
       "  </thead>\n",
       "  <tbody>\n",
       "    <tr>\n",
       "      <th>0</th>\n",
       "      <td>1976</td>\n",
       "      <td>Alabama</td>\n",
       "      <td>AL</td>\n",
       "      <td>1</td>\n",
       "      <td>63</td>\n",
       "      <td>41</td>\n",
       "      <td>US President</td>\n",
       "      <td>Carter, Jimmy</td>\n",
       "      <td>democrat</td>\n",
       "      <td>False</td>\n",
       "      <td>659170</td>\n",
       "      <td>1182850</td>\n",
       "      <td>20171015</td>\n",
       "      <td>NaN</td>\n",
       "    </tr>\n",
       "    <tr>\n",
       "      <th>1</th>\n",
       "      <td>1976</td>\n",
       "      <td>Alabama</td>\n",
       "      <td>AL</td>\n",
       "      <td>1</td>\n",
       "      <td>63</td>\n",
       "      <td>41</td>\n",
       "      <td>US President</td>\n",
       "      <td>Ford, Gerald</td>\n",
       "      <td>republican</td>\n",
       "      <td>False</td>\n",
       "      <td>504070</td>\n",
       "      <td>1182850</td>\n",
       "      <td>20171015</td>\n",
       "      <td>NaN</td>\n",
       "    </tr>\n",
       "    <tr>\n",
       "      <th>2</th>\n",
       "      <td>1976</td>\n",
       "      <td>Alabama</td>\n",
       "      <td>AL</td>\n",
       "      <td>1</td>\n",
       "      <td>63</td>\n",
       "      <td>41</td>\n",
       "      <td>US President</td>\n",
       "      <td>Maddox, Lester</td>\n",
       "      <td>american independent party</td>\n",
       "      <td>False</td>\n",
       "      <td>9198</td>\n",
       "      <td>1182850</td>\n",
       "      <td>20171015</td>\n",
       "      <td>NaN</td>\n",
       "    </tr>\n",
       "    <tr>\n",
       "      <th>3</th>\n",
       "      <td>1976</td>\n",
       "      <td>Alabama</td>\n",
       "      <td>AL</td>\n",
       "      <td>1</td>\n",
       "      <td>63</td>\n",
       "      <td>41</td>\n",
       "      <td>US President</td>\n",
       "      <td>Bubar, Benjamin \"\"Ben\"\"</td>\n",
       "      <td>prohibition</td>\n",
       "      <td>False</td>\n",
       "      <td>6669</td>\n",
       "      <td>1182850</td>\n",
       "      <td>20171015</td>\n",
       "      <td>NaN</td>\n",
       "    </tr>\n",
       "    <tr>\n",
       "      <th>4</th>\n",
       "      <td>1976</td>\n",
       "      <td>Alabama</td>\n",
       "      <td>AL</td>\n",
       "      <td>1</td>\n",
       "      <td>63</td>\n",
       "      <td>41</td>\n",
       "      <td>US President</td>\n",
       "      <td>Hall, Gus</td>\n",
       "      <td>communist party use</td>\n",
       "      <td>False</td>\n",
       "      <td>1954</td>\n",
       "      <td>1182850</td>\n",
       "      <td>20171015</td>\n",
       "      <td>NaN</td>\n",
       "    </tr>\n",
       "  </tbody>\n",
       "</table>\n",
       "</div>"
      ],
      "text/plain": [
       "   year    state state_po  state_fips  state_cen  state_ic        office  \\\n",
       "0  1976  Alabama       AL           1         63        41  US President   \n",
       "1  1976  Alabama       AL           1         63        41  US President   \n",
       "2  1976  Alabama       AL           1         63        41  US President   \n",
       "3  1976  Alabama       AL           1         63        41  US President   \n",
       "4  1976  Alabama       AL           1         63        41  US President   \n",
       "\n",
       "                 candidate                       party  writein  \\\n",
       "0            Carter, Jimmy                    democrat    False   \n",
       "1             Ford, Gerald                  republican    False   \n",
       "2           Maddox, Lester  american independent party    False   \n",
       "3  Bubar, Benjamin \"\"Ben\"\"                 prohibition    False   \n",
       "4                Hall, Gus         communist party use    False   \n",
       "\n",
       "   candidatevotes  totalvotes   version  notes  \n",
       "0          659170     1182850  20171015    NaN  \n",
       "1          504070     1182850  20171015    NaN  \n",
       "2            9198     1182850  20171015    NaN  \n",
       "3            6669     1182850  20171015    NaN  \n",
       "4            1954     1182850  20171015    NaN  "
      ]
     },
     "execution_count": 32,
     "metadata": {},
     "output_type": "execute_result"
    }
   ],
   "source": [
    "president = pd.read_csv('president.csv', encoding = 'latin-1')\n",
    "president.head()"
   ]
  },
  {
   "cell_type": "markdown",
   "metadata": {},
   "source": [
    "Let's rename candidate votes to say senate votes so we can merge with the presidential data."
   ]
  },
  {
   "cell_type": "code",
   "execution_count": 33,
   "metadata": {},
   "outputs": [],
   "source": [
    "senate.rename(columns = {'candidatevotes': 'senatevotes'}, inplace = True)"
   ]
  },
  {
   "cell_type": "markdown",
   "metadata": {},
   "source": [
    "Let's rename candidate votes to say president votes so we can merge with the senate data above."
   ]
  },
  {
   "cell_type": "code",
   "execution_count": 34,
   "metadata": {},
   "outputs": [],
   "source": [
    "president.rename(columns = {'candidatevotes': 'presidentvotes'}, inplace = True)"
   ]
  },
  {
   "cell_type": "markdown",
   "metadata": {},
   "source": [
    "Select columns that we care about (year, state, candidate votes, total votes) for each data frame and then merge together."
   ]
  },
  {
   "cell_type": "code",
   "execution_count": 35,
   "metadata": {},
   "outputs": [
    {
     "data": {
      "text/html": [
       "<div>\n",
       "<style scoped>\n",
       "    .dataframe tbody tr th:only-of-type {\n",
       "        vertical-align: middle;\n",
       "    }\n",
       "\n",
       "    .dataframe tbody tr th {\n",
       "        vertical-align: top;\n",
       "    }\n",
       "\n",
       "    .dataframe thead th {\n",
       "        text-align: right;\n",
       "    }\n",
       "</style>\n",
       "<table border=\"1\" class=\"dataframe\">\n",
       "  <thead>\n",
       "    <tr style=\"text-align: right;\">\n",
       "      <th></th>\n",
       "      <th>year</th>\n",
       "      <th>state</th>\n",
       "      <th>party</th>\n",
       "      <th>senatevotes</th>\n",
       "      <th>presidentvotes</th>\n",
       "    </tr>\n",
       "  </thead>\n",
       "  <tbody>\n",
       "    <tr>\n",
       "      <th>0</th>\n",
       "      <td>1976</td>\n",
       "      <td>Arizona</td>\n",
       "      <td>republican</td>\n",
       "      <td>321236</td>\n",
       "      <td>418642</td>\n",
       "    </tr>\n",
       "    <tr>\n",
       "      <th>1</th>\n",
       "      <td>1976</td>\n",
       "      <td>Arizona</td>\n",
       "      <td>independent</td>\n",
       "      <td>1565</td>\n",
       "      <td>19229</td>\n",
       "    </tr>\n",
       "    <tr>\n",
       "      <th>2</th>\n",
       "      <td>1976</td>\n",
       "      <td>Arizona</td>\n",
       "      <td>independent</td>\n",
       "      <td>10765</td>\n",
       "      <td>19229</td>\n",
       "    </tr>\n",
       "    <tr>\n",
       "      <th>3</th>\n",
       "      <td>1976</td>\n",
       "      <td>Arizona</td>\n",
       "      <td>democrat</td>\n",
       "      <td>400334</td>\n",
       "      <td>295602</td>\n",
       "    </tr>\n",
       "    <tr>\n",
       "      <th>4</th>\n",
       "      <td>1976</td>\n",
       "      <td>Arizona</td>\n",
       "      <td>libertarian</td>\n",
       "      <td>7310</td>\n",
       "      <td>7647</td>\n",
       "    </tr>\n",
       "  </tbody>\n",
       "</table>\n",
       "</div>"
      ],
      "text/plain": [
       "   year    state        party  senatevotes  presidentvotes\n",
       "0  1976  Arizona   republican       321236          418642\n",
       "1  1976  Arizona  independent         1565           19229\n",
       "2  1976  Arizona  independent        10765           19229\n",
       "3  1976  Arizona     democrat       400334          295602\n",
       "4  1976  Arizona  libertarian         7310            7647"
      ]
     },
     "execution_count": 35,
     "metadata": {},
     "output_type": "execute_result"
    }
   ],
   "source": [
    "senate_trim = senate[['year', 'state', 'party', 'senatevotes']] \n",
    "president_trim = president[['year', 'state', 'party', 'presidentvotes']]\n",
    "general_election = pd.merge(senate_trim, president_trim, on = ['year', 'state', 'party']).dropna()\n",
    "general_election.head()"
   ]
  },
  {
   "cell_type": "markdown",
   "metadata": {},
   "source": [
    "`'president_no_senate_diff` is the number of voters who voted for a president but not a senator."
   ]
  },
  {
   "cell_type": "code",
   "execution_count": 74,
   "metadata": {},
   "outputs": [],
   "source": [
    "general_election['president_no_senate_diff'] = (general_election['presidentvotes'] - general_election['senatevotes'])\n",
    "general_election['president_no_senate_prop'] = (general_election['presidentvotes'] / general_election['senatevotes'])"
   ]
  },
  {
   "cell_type": "markdown",
   "metadata": {},
   "source": [
    "Let's look at republicans vs democrats only"
   ]
  },
  {
   "cell_type": "code",
   "execution_count": 75,
   "metadata": {},
   "outputs": [],
   "source": [
    "general_election = general_election.loc[(general_election['party'] == 'republican') | (general_election['party'] == 'democrat')]"
   ]
  },
  {
   "cell_type": "code",
   "execution_count": 76,
   "metadata": {},
   "outputs": [
    {
     "data": {
      "text/html": [
       "<div>\n",
       "<style scoped>\n",
       "    .dataframe tbody tr th:only-of-type {\n",
       "        vertical-align: middle;\n",
       "    }\n",
       "\n",
       "    .dataframe tbody tr th {\n",
       "        vertical-align: top;\n",
       "    }\n",
       "\n",
       "    .dataframe thead th {\n",
       "        text-align: right;\n",
       "    }\n",
       "</style>\n",
       "<table border=\"1\" class=\"dataframe\">\n",
       "  <thead>\n",
       "    <tr style=\"text-align: right;\">\n",
       "      <th></th>\n",
       "      <th>year</th>\n",
       "      <th>state</th>\n",
       "      <th>party</th>\n",
       "      <th>senatevotes</th>\n",
       "      <th>presidentvotes</th>\n",
       "      <th>president_no_senate_diff</th>\n",
       "      <th>president_no_senate_prop</th>\n",
       "    </tr>\n",
       "  </thead>\n",
       "  <tbody>\n",
       "    <tr>\n",
       "      <th>0</th>\n",
       "      <td>1976</td>\n",
       "      <td>Arizona</td>\n",
       "      <td>republican</td>\n",
       "      <td>321236</td>\n",
       "      <td>418642</td>\n",
       "      <td>97406</td>\n",
       "      <td>1.303223</td>\n",
       "    </tr>\n",
       "    <tr>\n",
       "      <th>3</th>\n",
       "      <td>1976</td>\n",
       "      <td>Arizona</td>\n",
       "      <td>democrat</td>\n",
       "      <td>400334</td>\n",
       "      <td>295602</td>\n",
       "      <td>-104732</td>\n",
       "      <td>0.738388</td>\n",
       "    </tr>\n",
       "    <tr>\n",
       "      <th>5</th>\n",
       "      <td>1976</td>\n",
       "      <td>California</td>\n",
       "      <td>republican</td>\n",
       "      <td>3748973</td>\n",
       "      <td>3882244</td>\n",
       "      <td>133271</td>\n",
       "      <td>1.035549</td>\n",
       "    </tr>\n",
       "    <tr>\n",
       "      <th>6</th>\n",
       "      <td>1976</td>\n",
       "      <td>California</td>\n",
       "      <td>democrat</td>\n",
       "      <td>3502862</td>\n",
       "      <td>3742284</td>\n",
       "      <td>239422</td>\n",
       "      <td>1.068350</td>\n",
       "    </tr>\n",
       "    <tr>\n",
       "      <th>10</th>\n",
       "      <td>1976</td>\n",
       "      <td>Connecticut</td>\n",
       "      <td>republican</td>\n",
       "      <td>785683</td>\n",
       "      <td>719261</td>\n",
       "      <td>-66422</td>\n",
       "      <td>0.915460</td>\n",
       "    </tr>\n",
       "  </tbody>\n",
       "</table>\n",
       "</div>"
      ],
      "text/plain": [
       "    year        state       party  senatevotes  presidentvotes  \\\n",
       "0   1976      Arizona  republican       321236          418642   \n",
       "3   1976      Arizona    democrat       400334          295602   \n",
       "5   1976   California  republican      3748973         3882244   \n",
       "6   1976   California    democrat      3502862         3742284   \n",
       "10  1976  Connecticut  republican       785683          719261   \n",
       "\n",
       "    president_no_senate_diff  president_no_senate_prop  \n",
       "0                      97406                  1.303223  \n",
       "3                    -104732                  0.738388  \n",
       "5                     133271                  1.035549  \n",
       "6                     239422                  1.068350  \n",
       "10                    -66422                  0.915460  "
      ]
     },
     "execution_count": 76,
     "metadata": {},
     "output_type": "execute_result"
    }
   ],
   "source": [
    "general_election.head()"
   ]
  },
  {
   "cell_type": "code",
   "execution_count": 77,
   "metadata": {},
   "outputs": [],
   "source": [
    "dems = general_election.loc[general_election['party'] == 'democrat']\n",
    "reps = general_election.loc[general_election['party'] == 'republican']"
   ]
  },
  {
   "cell_type": "markdown",
   "metadata": {},
   "source": [
    "Remove outliers from the datasets (take roughly only 99.4% of the data)"
   ]
  },
  {
   "cell_type": "code",
   "execution_count": 105,
   "metadata": {},
   "outputs": [],
   "source": [
    "from scipy import stats\n",
    "dems = dems[(np.abs(stats.zscore(dems.select_dtypes('int64', 'float64'))) < 3).all(axis=1)]\n",
    "reps = reps[(np.abs(stats.zscore(reps.select_dtypes('int64', 'float64'))) < 3).all(axis=1)]"
   ]
  },
  {
   "cell_type": "markdown",
   "metadata": {},
   "source": [
    "## Bring in 2020 Data for Michigan and Georgia"
   ]
  },
  {
   "cell_type": "markdown",
   "metadata": {},
   "source": [
    "2020 data is not quite available but let's look at the two states in this article: Georgia and Michigan\n",
    "Source: https://abcnews.go.com/Elections/2020-us-presidential-election-results-live-map"
   ]
  },
  {
   "cell_type": "code",
   "execution_count": 108,
   "metadata": {},
   "outputs": [],
   "source": [
    "#2020 Data pulled from five thirty eight....lets look\n",
    "georgia_rep_pres = 2454729\n",
    "georgia_rep_senate = 2455583\n",
    "\n",
    "georgia_dem_pres = 2463889\n",
    "georgia_dem_senate = 2364345\n",
    "\n",
    "michigan_dem_pres = 2794853\n",
    "michigan_dem_senate = 2722724 \n",
    "\n",
    "michigan_rep_pres = 2646956\n",
    "michigan_rep_senate = 2636667"
   ]
  },
  {
   "cell_type": "markdown",
   "metadata": {},
   "source": [
    "Senate versus President vote diff proportion calculations"
   ]
  },
  {
   "cell_type": "code",
   "execution_count": 109,
   "metadata": {},
   "outputs": [
    {
     "name": "stdout",
     "output_type": "stream",
     "text": [
      "Georgia Democratic President, No Senate Vote Proportion:  1.042102146683331\n",
      "Georgia Republican President, No Senate Proportion:  0.999652221081511\n"
     ]
    }
   ],
   "source": [
    "georgia_dem_pres_senate_prop = georgia_dem_pres / georgia_dem_senate\n",
    "georgia_rep_pres_senate_prop = georgia_rep_pres / georgia_rep_senate\n",
    "\n",
    "print('Georgia Democratic President, No Senate Vote Proportion: ', georgia_dem_pres_senate_prop)\n",
    "print('Georgia Republican President, No Senate Proportion: ', georgia_rep_pres_senate_prop)"
   ]
  },
  {
   "cell_type": "code",
   "execution_count": 110,
   "metadata": {},
   "outputs": [
    {
     "name": "stdout",
     "output_type": "stream",
     "text": [
      "Michigan Democratic President, No Senate Vote:  1.0264914842635537\n",
      "Michigan Republican President, No Senate Vote:  1.0039022751071713\n"
     ]
    }
   ],
   "source": [
    "michigan_dem_pres_senate_prop = michigan_dem_pres / michigan_dem_senate\n",
    "michigan_rep_pres_senate_prop = michigan_rep_pres / michigan_rep_senate\n",
    "\n",
    "print('Michigan Democratic President, No Senate Vote: ', michigan_dem_pres_senate_prop)\n",
    "print('Michigan Republican President, No Senate Vote: ', michigan_rep_pres_senate_prop)"
   ]
  },
  {
   "cell_type": "markdown",
   "metadata": {},
   "source": [
    "## QUESTION 1: \n",
    "Are Georgia Democrats abnormally voting for the president but not the senate this year? What percentile would the 2020 President to Senate voting proportions rank historically against elections going back to 1976? "
   ]
  },
  {
   "cell_type": "code",
   "execution_count": 140,
   "metadata": {},
   "outputs": [
    {
     "data": {
      "text/plain": [
       "0.5730895362414933"
      ]
     },
     "execution_count": 140,
     "metadata": {},
     "output_type": "execute_result"
    }
   ],
   "source": [
    "ga_dem2020_z_score = (georgia_dem_pres_senate_prop - np.mean(dems['president_no_senate_prop']))/ np.std(dems['president_no_senate_prop'])\n",
    "stats.norm.cdf(ga_dem2020_z_score)"
   ]
  },
  {
   "cell_type": "markdown",
   "metadata": {},
   "source": [
    "Answer: No. This year's proportion of ballots voting for president but not for the senate versus ballots that voted for both offices ranks in the 57th percentile meaning that historically there are 43% of historical elections saw a higher proportion of ballots that voted for the presidential race but not the senate race."
   ]
  },
  {
   "cell_type": "markdown",
   "metadata": {},
   "source": [
    "## Question 2:\n",
    "Are Michigan Democrats abnormally voting for the president but not the senate this year? What percentile would the 2020 President to Senate voting proportions rank historically against elections going back to 1976? "
   ]
  },
  {
   "cell_type": "code",
   "execution_count": 142,
   "metadata": {},
   "outputs": [
    {
     "data": {
      "text/plain": [
       "0.5533202965298519"
      ]
     },
     "execution_count": 142,
     "metadata": {},
     "output_type": "execute_result"
    }
   ],
   "source": [
    "mich_dem2020_z_score = (michigan_dem_pres_senate_prop - np.mean(dems['president_no_senate_prop']))/ np.std(dems['president_no_senate_prop'])\n",
    "stats.norm.cdf(mich_dem2020_z_score)"
   ]
  },
  {
   "cell_type": "markdown",
   "metadata": {},
   "source": [
    "Answer for Michigan: No. This year's proportion of ballots voting for president but not for the senate versus ballots that voted for both offices ranks in the 55th percentile meaning that historically 45% of historical elections saw a higher proportion of ballots that voted for the presidential race but not the senate race."
   ]
  }
 ],
 "metadata": {
  "kernelspec": {
   "display_name": "Python 3",
   "language": "python",
   "name": "python3"
  },
  "language_info": {
   "codemirror_mode": {
    "name": "ipython",
    "version": 3
   },
   "file_extension": ".py",
   "mimetype": "text/x-python",
   "name": "python",
   "nbconvert_exporter": "python",
   "pygments_lexer": "ipython3",
   "version": "3.8.3"
  }
 },
 "nbformat": 4,
 "nbformat_minor": 4
}
